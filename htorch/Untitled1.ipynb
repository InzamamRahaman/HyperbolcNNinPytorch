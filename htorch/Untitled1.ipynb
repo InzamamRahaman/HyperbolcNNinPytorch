{
 "cells": [
  {
   "cell_type": "code",
   "execution_count": 1,
   "metadata": {},
   "outputs": [],
   "source": [
    "%load_ext autoreload\n",
    "%autoreload 2"
   ]
  },
  {
   "cell_type": "code",
   "execution_count": 2,
   "metadata": {},
   "outputs": [],
   "source": [
    "import nn"
   ]
  },
  {
   "cell_type": "code",
   "execution_count": 3,
   "metadata": {},
   "outputs": [],
   "source": [
    "import torch as th"
   ]
  },
  {
   "cell_type": "code",
   "execution_count": 4,
   "metadata": {},
   "outputs": [],
   "source": [
    "x = th.rand((5, 3))\n",
    "f = nn.HyperbolicLinearLinear(3, 2)"
   ]
  },
  {
   "cell_type": "code",
   "execution_count": 5,
   "metadata": {},
   "outputs": [
    {
     "name": "stdout",
     "output_type": "stream",
     "text": [
      "M is  Parameter containing:\n",
      "tensor([[0.7218, 0.1506],\n",
      "        [0.5153, 0.0240],\n",
      "        [0.7344, 0.7376]], requires_grad=True)\n",
      "x is  tensor([[0.8792, 0.7054, 0.1159],\n",
      "        [0.0201, 0.3425, 0.2145],\n",
      "        [0.6103, 0.9871, 0.9232],\n",
      "        [0.4629, 0.6136, 0.8344],\n",
      "        [0.6640, 0.8427, 0.6210]])\n",
      "tensor([[1.0831, 0.2347],\n",
      "        [0.3485, 0.1695],\n",
      "        [1.6271, 0.7965],\n",
      "        [1.2631, 0.6999],\n",
      "        [1.3695, 0.5782]], grad_fn=<MmBackward>)\n",
      "tensor([[2.7227, 1.2420]], grad_fn=<NormBackward1>)\n",
      "tensor([[1.3420, 1.6358, 1.4120]])\n"
     ]
    },
    {
     "ename": "RuntimeError",
     "evalue": "The size of tensor a (2) must match the size of tensor b (3) at non-singleton dimension 1",
     "output_type": "error",
     "traceback": [
      "\u001b[0;31m---------------------------------------------------------------------------\u001b[0m",
      "\u001b[0;31mRuntimeError\u001b[0m                              Traceback (most recent call last)",
      "\u001b[0;32m<ipython-input-5-f2d123ee1505>\u001b[0m in \u001b[0;36m<module>\u001b[0;34m\u001b[0m\n\u001b[0;32m----> 1\u001b[0;31m \u001b[0mf\u001b[0m\u001b[0;34m(\u001b[0m\u001b[0mx\u001b[0m\u001b[0;34m)\u001b[0m\u001b[0;34m\u001b[0m\u001b[0;34m\u001b[0m\u001b[0m\n\u001b[0m",
      "\u001b[0;32m~/anaconda3/lib/python3.7/site-packages/torch/nn/modules/module.py\u001b[0m in \u001b[0;36m__call__\u001b[0;34m(self, *input, **kwargs)\u001b[0m\n\u001b[1;32m    487\u001b[0m             \u001b[0mresult\u001b[0m \u001b[0;34m=\u001b[0m \u001b[0mself\u001b[0m\u001b[0;34m.\u001b[0m\u001b[0m_slow_forward\u001b[0m\u001b[0;34m(\u001b[0m\u001b[0;34m*\u001b[0m\u001b[0minput\u001b[0m\u001b[0;34m,\u001b[0m \u001b[0;34m**\u001b[0m\u001b[0mkwargs\u001b[0m\u001b[0;34m)\u001b[0m\u001b[0;34m\u001b[0m\u001b[0;34m\u001b[0m\u001b[0m\n\u001b[1;32m    488\u001b[0m         \u001b[0;32melse\u001b[0m\u001b[0;34m:\u001b[0m\u001b[0;34m\u001b[0m\u001b[0;34m\u001b[0m\u001b[0m\n\u001b[0;32m--> 489\u001b[0;31m             \u001b[0mresult\u001b[0m \u001b[0;34m=\u001b[0m \u001b[0mself\u001b[0m\u001b[0;34m.\u001b[0m\u001b[0mforward\u001b[0m\u001b[0;34m(\u001b[0m\u001b[0;34m*\u001b[0m\u001b[0minput\u001b[0m\u001b[0;34m,\u001b[0m \u001b[0;34m**\u001b[0m\u001b[0mkwargs\u001b[0m\u001b[0;34m)\u001b[0m\u001b[0;34m\u001b[0m\u001b[0;34m\u001b[0m\u001b[0m\n\u001b[0m\u001b[1;32m    490\u001b[0m         \u001b[0;32mfor\u001b[0m \u001b[0mhook\u001b[0m \u001b[0;32min\u001b[0m \u001b[0mself\u001b[0m\u001b[0;34m.\u001b[0m\u001b[0m_forward_hooks\u001b[0m\u001b[0;34m.\u001b[0m\u001b[0mvalues\u001b[0m\u001b[0;34m(\u001b[0m\u001b[0;34m)\u001b[0m\u001b[0;34m:\u001b[0m\u001b[0;34m\u001b[0m\u001b[0;34m\u001b[0m\u001b[0m\n\u001b[1;32m    491\u001b[0m             \u001b[0mhook_result\u001b[0m \u001b[0;34m=\u001b[0m \u001b[0mhook\u001b[0m\u001b[0;34m(\u001b[0m\u001b[0mself\u001b[0m\u001b[0;34m,\u001b[0m \u001b[0minput\u001b[0m\u001b[0;34m,\u001b[0m \u001b[0mresult\u001b[0m\u001b[0;34m)\u001b[0m\u001b[0;34m\u001b[0m\u001b[0;34m\u001b[0m\u001b[0m\n",
      "\u001b[0;32m~/Research/HyperbolcNNinPytorch/htorch/nn.py\u001b[0m in \u001b[0;36mforward\u001b[0;34m(self, input)\u001b[0m\n\u001b[1;32m     16\u001b[0m \u001b[0;34m\u001b[0m\u001b[0m\n\u001b[1;32m     17\u001b[0m     \u001b[0;32mdef\u001b[0m \u001b[0mforward\u001b[0m\u001b[0;34m(\u001b[0m\u001b[0mself\u001b[0m\u001b[0;34m,\u001b[0m \u001b[0minput\u001b[0m\u001b[0;34m)\u001b[0m\u001b[0;34m:\u001b[0m\u001b[0;34m\u001b[0m\u001b[0;34m\u001b[0m\u001b[0m\n\u001b[0;32m---> 18\u001b[0;31m         \u001b[0mres\u001b[0m \u001b[0;34m=\u001b[0m \u001b[0moperations\u001b[0m\u001b[0;34m.\u001b[0m\u001b[0mmat_mult\u001b[0m\u001b[0;34m(\u001b[0m\u001b[0mself\u001b[0m\u001b[0;34m.\u001b[0m\u001b[0mW\u001b[0m\u001b[0;34m,\u001b[0m \u001b[0minput\u001b[0m\u001b[0;34m)\u001b[0m\u001b[0;34m\u001b[0m\u001b[0;34m\u001b[0m\u001b[0m\n\u001b[0m\u001b[1;32m     19\u001b[0m         \u001b[0;32mif\u001b[0m \u001b[0mself\u001b[0m\u001b[0;34m.\u001b[0m\u001b[0mbias\u001b[0m\u001b[0;34m:\u001b[0m\u001b[0;34m\u001b[0m\u001b[0;34m\u001b[0m\u001b[0m\n\u001b[1;32m     20\u001b[0m             \u001b[0mbias\u001b[0m \u001b[0;34m=\u001b[0m \u001b[0mth\u001b[0m\u001b[0;34m.\u001b[0m\u001b[0mones_like\u001b[0m\u001b[0;34m(\u001b[0m\u001b[0mres\u001b[0m\u001b[0;34m)\u001b[0m \u001b[0;34m*\u001b[0m \u001b[0mself\u001b[0m\u001b[0;34m.\u001b[0m\u001b[0mbias\u001b[0m\u001b[0;34m\u001b[0m\u001b[0;34m\u001b[0m\u001b[0m\n",
      "\u001b[0;32m~/Research/HyperbolcNNinPytorch/htorch/operations.py\u001b[0m in \u001b[0;36mmat_mult\u001b[0;34m(M, x, c)\u001b[0m\n\u001b[1;32m    141\u001b[0m     \u001b[0mprint\u001b[0m\u001b[0;34m(\u001b[0m\u001b[0mx_norm\u001b[0m\u001b[0;34m)\u001b[0m\u001b[0;34m\u001b[0m\u001b[0;34m\u001b[0m\u001b[0m\n\u001b[1;32m    142\u001b[0m \u001b[0;34m\u001b[0m\u001b[0m\n\u001b[0;32m--> 143\u001b[0;31m     \u001b[0ma1\u001b[0m \u001b[0;34m=\u001b[0m \u001b[0mMX_norm\u001b[0m \u001b[0;34m/\u001b[0m \u001b[0mx_norm\u001b[0m\u001b[0;34m\u001b[0m\u001b[0;34m\u001b[0m\u001b[0m\n\u001b[0m\u001b[1;32m    144\u001b[0m     \u001b[0ma2\u001b[0m \u001b[0;34m=\u001b[0m \u001b[0matanh\u001b[0m\u001b[0;34m(\u001b[0m\u001b[0mnp\u001b[0m\u001b[0;34m.\u001b[0m\u001b[0msqrt\u001b[0m\u001b[0;34m(\u001b[0m\u001b[0mc\u001b[0m\u001b[0;34m)\u001b[0m \u001b[0;34m*\u001b[0m \u001b[0mx_norm\u001b[0m\u001b[0;34m)\u001b[0m\u001b[0;34m\u001b[0m\u001b[0;34m\u001b[0m\u001b[0m\n\u001b[1;32m    145\u001b[0m \u001b[0;34m\u001b[0m\u001b[0m\n",
      "\u001b[0;31mRuntimeError\u001b[0m: The size of tensor a (2) must match the size of tensor b (3) at non-singleton dimension 1"
     ]
    }
   ],
   "source": [
    "f(x)"
   ]
  },
  {
   "cell_type": "code",
   "execution_count": 6,
   "metadata": {},
   "outputs": [],
   "source": [
    "from non_tensor_ops import *"
   ]
  },
  {
   "cell_type": "code",
   "execution_count": 48,
   "metadata": {},
   "outputs": [],
   "source": [
    "emb_dim = 20\n",
    "v1 = np_random.uniform(-0.5, 0.5, emb_dim).astype(np.float32)\n",
    "v2 = np_random.uniform(-0.5, 0.5, emb_dim).astype(np.float32)\n",
    "v3 = np_random.uniform(-0.5, 0.5, (10, emb_dim)).astype(np.float32)\n",
    "v1 = v1 * 0.59999 / LA.norm(v1)\n",
    "v2 = v2 * 0.99 / LA.norm(v2)\n",
    "v3 = np.stack((v1, v2))"
   ]
  },
  {
   "cell_type": "code",
   "execution_count": 49,
   "metadata": {},
   "outputs": [],
   "source": [
    "M = np.random.rand(emb_dim, 5).astype(np.float32)"
   ]
  },
  {
   "cell_type": "code",
   "execution_count": 50,
   "metadata": {},
   "outputs": [
    {
     "name": "stdout",
     "output_type": "stream",
     "text": [
      "Mx norm1:  1.4754727\n",
      "x norm  [0.59999 0.99   ]\n",
      "Norm factor:  [2.459162  1.4903765]\n",
      "inner2:  [0.63435405 0.67724097]\n",
      "Mx:  [[-0.00241915  0.3175991   0.22756176  0.28619313  0.29497212]\n",
      " [-0.8694726  -0.32169852 -0.83165216 -0.53890795 -0.1179212 ]]\n"
     ]
    },
    {
     "ename": "ValueError",
     "evalue": "operands could not be broadcast together with shapes (2,) (2,5) ",
     "output_type": "error",
     "traceback": [
      "\u001b[0;31m---------------------------------------------------------------------------\u001b[0m",
      "\u001b[0;31mValueError\u001b[0m                                Traceback (most recent call last)",
      "\u001b[0;32m<ipython-input-50-688d86923291>\u001b[0m in \u001b[0;36m<module>\u001b[0;34m\u001b[0m\n\u001b[0;32m----> 1\u001b[0;31m \u001b[0mmob_mat_mul\u001b[0m\u001b[0;34m(\u001b[0m\u001b[0mM\u001b[0m\u001b[0;34m,\u001b[0m \u001b[0mv3\u001b[0m\u001b[0;34m,\u001b[0m \u001b[0;36m1\u001b[0m\u001b[0;34m)\u001b[0m\u001b[0;34m\u001b[0m\u001b[0;34m\u001b[0m\u001b[0m\n\u001b[0m",
      "\u001b[0;32m<ipython-input-44-b07eb557a4cb>\u001b[0m in \u001b[0;36mmob_mat_mul\u001b[0;34m(M, x, c)\u001b[0m\n\u001b[1;32m     12\u001b[0m     \u001b[0mprint\u001b[0m\u001b[0;34m(\u001b[0m\u001b[0;34m'inner2: '\u001b[0m\u001b[0;34m,\u001b[0m \u001b[0minner2\u001b[0m\u001b[0;34m)\u001b[0m\u001b[0;34m\u001b[0m\u001b[0;34m\u001b[0m\u001b[0m\n\u001b[1;32m     13\u001b[0m     \u001b[0mprint\u001b[0m\u001b[0;34m(\u001b[0m\u001b[0;34m'Mx: '\u001b[0m\u001b[0;34m,\u001b[0m \u001b[0mMx\u001b[0m\u001b[0;34m)\u001b[0m\u001b[0;34m\u001b[0m\u001b[0;34m\u001b[0m\u001b[0m\n\u001b[0;32m---> 14\u001b[0;31m     \u001b[0;32mreturn\u001b[0m  \u001b[0minner2\u001b[0m\u001b[0;34m.\u001b[0m\u001b[0mT\u001b[0m \u001b[0;34m*\u001b[0m \u001b[0mMx\u001b[0m\u001b[0;34m\u001b[0m\u001b[0;34m\u001b[0m\u001b[0m\n\u001b[0m",
      "\u001b[0;31mValueError\u001b[0m: operands could not be broadcast together with shapes (2,) (2,5) "
     ]
    }
   ],
   "source": [
    "mob_mat_mul(M, v3, 1)"
   ]
  },
  {
   "cell_type": "code",
   "execution_count": 59,
   "metadata": {},
   "outputs": [],
   "source": [
    "def mob_mat_mul(M, x, c):\n",
    "    Mx = x @ M\n",
    "    MX_norm = LA.norm(Mx.T, axis=0)\n",
    "    x_norm = LA.norm(x.T, axis=0)\n",
    "    print('Mx: ', Mx)\n",
    "    print('Mx norm1: ',MX_norm)\n",
    "    print('x norm ', x_norm)\n",
    "    sqrt_recip = 1. / np.sqrt(c)\n",
    "    norm_factor = MX_norm / x_norm\n",
    "    print('Norm factor: ', norm_factor)\n",
    "    inner1 = np.tanh(norm_factor * np.arctanh(np.sqrt(c) * x_norm)) / MX_norm\n",
    "    inner2 = sqrt_recip * inner1\n",
    "    inner2 = inner2.reshape(-1, 1)\n",
    "    print('inner2: ', inner2)\n",
    "    print('Mx: ', Mx)\n",
    "    return  inner2 * Mx"
   ]
  },
  {
   "cell_type": "code",
   "execution_count": 60,
   "metadata": {},
   "outputs": [
    {
     "name": "stdout",
     "output_type": "stream",
     "text": [
      "Mx:  [-0.00241917  0.3175991   0.22756174  0.28619313  0.29497212]\n",
      "Mx norm1:  0.5670754\n",
      "x norm  0.59999\n",
      "Norm factor:  0.9451414\n",
      "inner2:  [[1.01414763]]\n",
      "Mx:  [-0.00241917  0.3175991   0.22756174  0.28619313  0.29497212]\n",
      "Ans1:  [-0.00245339  0.32209235  0.2307812   0.29024208  0.29914528]\n",
      "\n",
      "Mx:  [-0.8694726  -0.32169852 -0.83165216 -0.538908   -0.11792122]\n",
      "Mx norm1:  1.3621472\n",
      "x norm  0.99\n",
      "Norm factor:  1.3759062\n",
      "inner2:  [[0.73312695]]\n",
      "Mx:  [-0.8694726  -0.32169852 -0.83165216 -0.538908   -0.11792122]\n",
      "Ans2:  [-0.6374338  -0.23584585 -0.6097066  -0.395088   -0.08645122]\n",
      "\n",
      "Mx:  [[-0.00241915  0.3175991   0.22756176  0.28619313  0.29497212]\n",
      " [-0.8694726  -0.32169852 -0.83165216 -0.53890795 -0.1179212 ]]\n",
      "Mx norm1:  [0.5670754 1.3621472]\n",
      "x norm  [0.59999 0.99   ]\n",
      "Norm factor:  [0.9451414 1.3759062]\n",
      "inner2:  [[1.0141476 ]\n",
      " [0.73312694]]\n",
      "Mx:  [[-0.00241915  0.3175991   0.22756176  0.28619313  0.29497212]\n",
      " [-0.8694726  -0.32169852 -0.83165216 -0.53890795 -0.1179212 ]]\n"
     ]
    },
    {
     "ename": "ValueError",
     "evalue": "operands could not be broadcast together with shapes (2,) (2,5) ",
     "output_type": "error",
     "traceback": [
      "\u001b[0;31m---------------------------------------------------------------------------\u001b[0m",
      "\u001b[0;31mValueError\u001b[0m                                Traceback (most recent call last)",
      "\u001b[0;32m<ipython-input-60-ef5c3aaed620>\u001b[0m in \u001b[0;36m<module>\u001b[0;34m\u001b[0m\n\u001b[1;32m      3\u001b[0m \u001b[0mprint\u001b[0m\u001b[0;34m(\u001b[0m\u001b[0;34m'Ans2: '\u001b[0m\u001b[0;34m,\u001b[0m\u001b[0mmob_mat_mul\u001b[0m\u001b[0;34m(\u001b[0m\u001b[0mM\u001b[0m\u001b[0;34m,\u001b[0m \u001b[0mv2\u001b[0m\u001b[0;34m,\u001b[0m \u001b[0;36m1\u001b[0m\u001b[0;34m)\u001b[0m\u001b[0;34m)\u001b[0m\u001b[0;34m\u001b[0m\u001b[0;34m\u001b[0m\u001b[0m\n\u001b[1;32m      4\u001b[0m \u001b[0mprint\u001b[0m\u001b[0;34m(\u001b[0m\u001b[0;34m)\u001b[0m\u001b[0;34m\u001b[0m\u001b[0;34m\u001b[0m\u001b[0m\n\u001b[0;32m----> 5\u001b[0;31m \u001b[0mprint\u001b[0m\u001b[0;34m(\u001b[0m\u001b[0;34m'Ans3: '\u001b[0m\u001b[0;34m,\u001b[0m\u001b[0mmob_mat_mul\u001b[0m\u001b[0;34m(\u001b[0m\u001b[0mM\u001b[0m\u001b[0;34m,\u001b[0m \u001b[0mv3\u001b[0m\u001b[0;34m,\u001b[0m \u001b[0;36m1\u001b[0m\u001b[0;34m)\u001b[0m\u001b[0;34m)\u001b[0m\u001b[0;34m\u001b[0m\u001b[0;34m\u001b[0m\u001b[0m\n\u001b[0m",
      "\u001b[0;32m<ipython-input-59-96d5a3bc03e6>\u001b[0m in \u001b[0;36mmob_mat_mul\u001b[0;34m(M, x, c)\u001b[0m\n\u001b[1;32m     13\u001b[0m     \u001b[0mprint\u001b[0m\u001b[0;34m(\u001b[0m\u001b[0;34m'inner2: '\u001b[0m\u001b[0;34m,\u001b[0m \u001b[0minner2\u001b[0m\u001b[0;34m.\u001b[0m\u001b[0mreshape\u001b[0m\u001b[0;34m(\u001b[0m\u001b[0;34m-\u001b[0m\u001b[0;36m1\u001b[0m\u001b[0;34m,\u001b[0m \u001b[0;36m1\u001b[0m\u001b[0;34m)\u001b[0m\u001b[0;34m)\u001b[0m\u001b[0;34m\u001b[0m\u001b[0;34m\u001b[0m\u001b[0m\n\u001b[1;32m     14\u001b[0m     \u001b[0mprint\u001b[0m\u001b[0;34m(\u001b[0m\u001b[0;34m'Mx: '\u001b[0m\u001b[0;34m,\u001b[0m \u001b[0mMx\u001b[0m\u001b[0;34m)\u001b[0m\u001b[0;34m\u001b[0m\u001b[0;34m\u001b[0m\u001b[0m\n\u001b[0;32m---> 15\u001b[0;31m     \u001b[0;32mreturn\u001b[0m  \u001b[0minner2\u001b[0m \u001b[0;34m*\u001b[0m \u001b[0mMx\u001b[0m\u001b[0;34m\u001b[0m\u001b[0;34m\u001b[0m\u001b[0m\n\u001b[0m",
      "\u001b[0;31mValueError\u001b[0m: operands could not be broadcast together with shapes (2,) (2,5) "
     ]
    }
   ],
   "source": [
    "print('Ans1: ',mob_mat_mul(M, v1, 1))\n",
    "print()\n",
    "print('Ans2: ',mob_mat_mul(M, v2, 1))\n",
    "print()\n",
    "print('Ans3: ',mob_mat_mul(M, v3, 1))"
   ]
  },
  {
   "cell_type": "code",
   "execution_count": 31,
   "metadata": {},
   "outputs": [
    {
     "data": {
      "text/plain": [
       "array([[ 0.07412792, -0.25206652],\n",
       "       [ 0.03832465, -0.04804948],\n",
       "       [ 0.17992742, -0.01423273],\n",
       "       [ 0.15613668,  0.19928516],\n",
       "       [ 0.02445264, -0.18166915],\n",
       "       [ 0.04639031,  0.35277745],\n",
       "       [-0.13094404, -0.14644618],\n",
       "       [-0.06186415, -0.04273972],\n",
       "       [-0.1602464 , -0.03780794],\n",
       "       [ 0.08079259, -0.01691131],\n",
       "       [ 0.13536818,  0.33811027],\n",
       "       [ 0.11236496,  0.24459991],\n",
       "       [ 0.03893559, -0.14255436],\n",
       "       [-0.18380708, -0.21330747],\n",
       "       [-0.16104414,  0.12910773],\n",
       "       [-0.05301902,  0.36234128],\n",
       "       [-0.20518638,  0.21502838],\n",
       "       [-0.2060926 , -0.07201783],\n",
       "       [-0.18662345,  0.33805156],\n",
       "       [ 0.1610599 ,  0.3718336 ]], dtype=float32)"
      ]
     },
     "execution_count": 31,
     "metadata": {},
     "output_type": "execute_result"
    }
   ],
   "source": [
    "v3.T"
   ]
  },
  {
   "cell_type": "code",
   "execution_count": 27,
   "metadata": {},
   "outputs": [
    {
     "data": {
      "text/plain": [
       "1.1576217"
      ]
     },
     "execution_count": 27,
     "metadata": {},
     "output_type": "execute_result"
    }
   ],
   "source": [
    "LA.norm(v3)"
   ]
  },
  {
   "cell_type": "code",
   "execution_count": 28,
   "metadata": {},
   "outputs": [
    {
     "data": {
      "text/plain": [
       "array([0.2627403 , 0.06146162, 0.18048947, 0.25316644, 0.18330741,\n",
       "       0.35581455, 0.19645058, 0.07519213, 0.16464613, 0.08254354,\n",
       "       0.36420202, 0.26917467, 0.14777593, 0.28157613, 0.20640741,\n",
       "       0.3661997 , 0.29721817, 0.21831337, 0.38614395, 0.40521663],\n",
       "      dtype=float32)"
      ]
     },
     "execution_count": 28,
     "metadata": {},
     "output_type": "execute_result"
    }
   ],
   "source": [
    "LA.norm(v3, axis=0)"
   ]
  },
  {
   "cell_type": "code",
   "execution_count": 30,
   "metadata": {},
   "outputs": [
    {
     "data": {
      "text/plain": [
       "array([0.59999   , 0.98999995], dtype=float32)"
      ]
     },
     "execution_count": 30,
     "metadata": {},
     "output_type": "execute_result"
    }
   ],
   "source": [
    "LA.norm(v3, axis=1)"
   ]
  },
  {
   "cell_type": "code",
   "execution_count": null,
   "metadata": {},
   "outputs": [],
   "source": []
  }
 ],
 "metadata": {
  "kernelspec": {
   "display_name": "Python 3",
   "language": "python",
   "name": "python3"
  },
  "language_info": {
   "codemirror_mode": {
    "name": "ipython",
    "version": 3
   },
   "file_extension": ".py",
   "mimetype": "text/x-python",
   "name": "python",
   "nbconvert_exporter": "python",
   "pygments_lexer": "ipython3",
   "version": "3.7.1"
  }
 },
 "nbformat": 4,
 "nbformat_minor": 2
}
