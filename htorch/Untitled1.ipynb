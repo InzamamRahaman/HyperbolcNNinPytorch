{
 "cells": [
  {
   "cell_type": "code",
   "execution_count": 1,
   "metadata": {},
   "outputs": [],
   "source": [
    "%load_ext autoreload\n",
    "%autoreload 2"
   ]
  },
  {
   "cell_type": "code",
   "execution_count": 101,
   "metadata": {},
   "outputs": [],
   "source": [
    "import nn"
   ]
  },
  {
   "cell_type": "code",
   "execution_count": 102,
   "metadata": {},
   "outputs": [],
   "source": [
    "import torch as th"
   ]
  },
  {
   "cell_type": "code",
   "execution_count": 103,
   "metadata": {},
   "outputs": [],
   "source": [
    "x = th.rand((5, 3))\n",
    "f = nn.HyperbolicLinearLinear(3, 2)"
   ]
  },
  {
   "cell_type": "code",
   "execution_count": 104,
   "metadata": {},
   "outputs": [
    {
     "data": {
      "text/plain": [
       "tensor([[0.0890, 0.0990],\n",
       "        [0.5430, 0.5551],\n",
       "        [0.5395, 0.5566],\n",
       "        [0.5341, 0.5588],\n",
       "        [0.3155, 0.2451]], grad_fn=<MulBackward0>)"
      ]
     },
     "execution_count": 104,
     "metadata": {},
     "output_type": "execute_result"
    }
   ],
   "source": [
    "f(x)"
   ]
  },
  {
   "cell_type": "code",
   "execution_count": 6,
   "metadata": {},
   "outputs": [],
   "source": [
    "from non_tensor_ops import *"
   ]
  },
  {
   "cell_type": "code",
   "execution_count": 48,
   "metadata": {},
   "outputs": [],
   "source": [
    "emb_dim = 20\n",
    "v1 = np_random.uniform(-0.5, 0.5, emb_dim).astype(np.float32)\n",
    "v2 = np_random.uniform(-0.5, 0.5, emb_dim).astype(np.float32)\n",
    "v3 = np_random.uniform(-0.5, 0.5, (10, emb_dim)).astype(np.float32)\n",
    "v1 = v1 * 0.59999 / LA.norm(v1)\n",
    "v2 = v2 * 0.99 / LA.norm(v2)\n",
    "v3 = np.stack((v1, v2))"
   ]
  },
  {
   "cell_type": "code",
   "execution_count": 49,
   "metadata": {},
   "outputs": [],
   "source": [
    "M = np.random.rand(emb_dim, 5).astype(np.float32)"
   ]
  },
  {
   "cell_type": "code",
   "execution_count": 50,
   "metadata": {},
   "outputs": [
    {
     "name": "stdout",
     "output_type": "stream",
     "text": [
      "Mx norm1:  1.4754727\n",
      "x norm  [0.59999 0.99   ]\n",
      "Norm factor:  [2.459162  1.4903765]\n",
      "inner2:  [0.63435405 0.67724097]\n",
      "Mx:  [[-0.00241915  0.3175991   0.22756176  0.28619313  0.29497212]\n",
      " [-0.8694726  -0.32169852 -0.83165216 -0.53890795 -0.1179212 ]]\n"
     ]
    },
    {
     "ename": "ValueError",
     "evalue": "operands could not be broadcast together with shapes (2,) (2,5) ",
     "output_type": "error",
     "traceback": [
      "\u001b[0;31m---------------------------------------------------------------------------\u001b[0m",
      "\u001b[0;31mValueError\u001b[0m                                Traceback (most recent call last)",
      "\u001b[0;32m<ipython-input-50-688d86923291>\u001b[0m in \u001b[0;36m<module>\u001b[0;34m\u001b[0m\n\u001b[0;32m----> 1\u001b[0;31m \u001b[0mmob_mat_mul\u001b[0m\u001b[0;34m(\u001b[0m\u001b[0mM\u001b[0m\u001b[0;34m,\u001b[0m \u001b[0mv3\u001b[0m\u001b[0;34m,\u001b[0m \u001b[0;36m1\u001b[0m\u001b[0;34m)\u001b[0m\u001b[0;34m\u001b[0m\u001b[0;34m\u001b[0m\u001b[0m\n\u001b[0m",
      "\u001b[0;32m<ipython-input-44-b07eb557a4cb>\u001b[0m in \u001b[0;36mmob_mat_mul\u001b[0;34m(M, x, c)\u001b[0m\n\u001b[1;32m     12\u001b[0m     \u001b[0mprint\u001b[0m\u001b[0;34m(\u001b[0m\u001b[0;34m'inner2: '\u001b[0m\u001b[0;34m,\u001b[0m \u001b[0minner2\u001b[0m\u001b[0;34m)\u001b[0m\u001b[0;34m\u001b[0m\u001b[0;34m\u001b[0m\u001b[0m\n\u001b[1;32m     13\u001b[0m     \u001b[0mprint\u001b[0m\u001b[0;34m(\u001b[0m\u001b[0;34m'Mx: '\u001b[0m\u001b[0;34m,\u001b[0m \u001b[0mMx\u001b[0m\u001b[0;34m)\u001b[0m\u001b[0;34m\u001b[0m\u001b[0;34m\u001b[0m\u001b[0m\n\u001b[0;32m---> 14\u001b[0;31m     \u001b[0;32mreturn\u001b[0m  \u001b[0minner2\u001b[0m\u001b[0;34m.\u001b[0m\u001b[0mT\u001b[0m \u001b[0;34m*\u001b[0m \u001b[0mMx\u001b[0m\u001b[0;34m\u001b[0m\u001b[0;34m\u001b[0m\u001b[0m\n\u001b[0m",
      "\u001b[0;31mValueError\u001b[0m: operands could not be broadcast together with shapes (2,) (2,5) "
     ]
    }
   ],
   "source": [
    "mob_mat_mul(M, v3, 1)"
   ]
  },
  {
   "cell_type": "code",
   "execution_count": 61,
   "metadata": {},
   "outputs": [],
   "source": [
    "def mob_mat_mul(M, x, c):\n",
    "    Mx = x @ M\n",
    "    MX_norm = LA.norm(Mx.T, axis=0)\n",
    "    x_norm = LA.norm(x.T, axis=0)\n",
    "    print('Mx: ', Mx)\n",
    "    print('Mx norm1: ',MX_norm)\n",
    "    print('x norm ', x_norm)\n",
    "    sqrt_recip = 1. / np.sqrt(c)\n",
    "    norm_factor = MX_norm / x_norm\n",
    "    print('Norm factor: ', norm_factor)\n",
    "    inner1 = np.tanh(norm_factor * np.arctanh(np.sqrt(c) * x_norm)) / MX_norm\n",
    "    inner2 = sqrt_recip * inner1\n",
    "    inner2 = inner2.reshape(-1, 1)\n",
    "    print('inner2: ', inner2)\n",
    "    print('Mx: ', Mx)\n",
    "    return  inner2 * Mx"
   ]
  },
  {
   "cell_type": "code",
   "execution_count": 62,
   "metadata": {},
   "outputs": [
    {
     "name": "stdout",
     "output_type": "stream",
     "text": [
      "Mx:  [-0.00241917  0.3175991   0.22756174  0.28619313  0.29497212]\n",
      "Mx norm1:  0.5670754\n",
      "x norm  0.59999\n",
      "Norm factor:  0.9451414\n",
      "inner2:  [[1.01414763]]\n",
      "Mx:  [-0.00241917  0.3175991   0.22756174  0.28619313  0.29497212]\n",
      "Ans1:  [[-0.00245339  0.32209236  0.2307812   0.29024209  0.29914528]]\n",
      "\n",
      "Mx:  [-0.8694726  -0.32169852 -0.83165216 -0.538908   -0.11792122]\n",
      "Mx norm1:  1.3621472\n",
      "x norm  0.99\n",
      "Norm factor:  1.3759062\n",
      "inner2:  [[0.73312695]]\n",
      "Mx:  [-0.8694726  -0.32169852 -0.83165216 -0.538908   -0.11792122]\n",
      "Ans2:  [[-0.63743381 -0.23584585 -0.60970661 -0.39508798 -0.08645122]]\n",
      "\n",
      "Mx:  [[-0.00241915  0.3175991   0.22756176  0.28619313  0.29497212]\n",
      " [-0.8694726  -0.32169852 -0.83165216 -0.53890795 -0.1179212 ]]\n",
      "Mx norm1:  [0.5670754 1.3621472]\n",
      "x norm  [0.59999 0.99   ]\n",
      "Norm factor:  [0.9451414 1.3759062]\n",
      "inner2:  [[1.0141476 ]\n",
      " [0.73312694]]\n",
      "Mx:  [[-0.00241915  0.3175991   0.22756176  0.28619313  0.29497212]\n",
      " [-0.8694726  -0.32169852 -0.83165216 -0.53890795 -0.1179212 ]]\n",
      "Ans3:  [[-0.00245338  0.32209235  0.23078121  0.29024208  0.29914528]\n",
      " [-0.6374338  -0.23584585 -0.6097066  -0.39508793 -0.08645121]]\n"
     ]
    }
   ],
   "source": [
    "print('Ans1: ',mob_mat_mul(M, v1, 1))\n",
    "print()\n",
    "print('Ans2: ',mob_mat_mul(M, v2, 1))\n",
    "print()\n",
    "print('Ans3: ',mob_mat_mul(M, v3, 1))"
   ]
  },
  {
   "cell_type": "code",
   "execution_count": 63,
   "metadata": {},
   "outputs": [],
   "source": [
    "from operations import *"
   ]
  },
  {
   "cell_type": "code",
   "execution_count": 64,
   "metadata": {},
   "outputs": [],
   "source": [
    "v1 = th.tensor(v1)\n",
    "v2 = th.tensor(v2)\n",
    "v3 = th.tensor(v3)\n",
    "M = th.tensor(M)"
   ]
  },
  {
   "cell_type": "code",
   "execution_count": 99,
   "metadata": {},
   "outputs": [],
   "source": [
    "def mat_mult(M, x, c=C):\n",
    "    x = x + EPS\n",
    "    Mx = x @ M\n",
    "    MX_norm = norm(th.transpose(Mx, -1, 0), dim=0)\n",
    "    x_norm = norm(th.transpose(x, -1, 0), dim=0)\n",
    "    #print(Mx)\n",
    "    print('Mx: ', Mx)\n",
    "    print('Mx norm1: ',MX_norm)\n",
    "    print('x norm ', x_norm)\n",
    "    sqrt_recip = 1. / np.sqrt(c)\n",
    "    norm_factor = MX_norm / x_norm\n",
    "    print('Norm factor: ', norm_factor)\n",
    "    inner1 = tanh(norm_factor * atanh(np.sqrt(c) * x_norm)) / MX_norm\n",
    "    inner2 = sqrt_recip * inner1\n",
    "    inner2 = inner2.view(-1, 1)\n",
    "    print('inner2: ', inner2)\n",
    "    print('Mx: ', Mx)\n",
    "    result =  inner2 * Mx\n",
    "    return project_hyp_vecs(result, c)\n"
   ]
  },
  {
   "cell_type": "code",
   "execution_count": 100,
   "metadata": {},
   "outputs": [
    {
     "name": "stdout",
     "output_type": "stream",
     "text": [
      "Mx:  tensor([-0.0024,  0.3176,  0.2276,  0.2862,  0.2950])\n",
      "Mx norm1:  tensor([0.5671])\n",
      "x norm  tensor([0.6000])\n",
      "Norm factor:  tensor([0.9451])\n",
      "inner2:  tensor([[1.0141]])\n",
      "Mx:  tensor([-0.0024,  0.3176,  0.2276,  0.2862,  0.2950])\n",
      "Ans1:  tensor([[-0.0025,  0.3221,  0.2308,  0.2902,  0.2991]])\n",
      "\n",
      "Mx:  tensor([-0.8695, -0.3217, -0.8317, -0.5389, -0.1179])\n",
      "Mx norm1:  tensor([1.3621])\n",
      "x norm  tensor([0.9900])\n",
      "Norm factor:  tensor([1.3759])\n",
      "inner2:  tensor([[0.7331]])\n",
      "Mx:  tensor([-0.8695, -0.3217, -0.8317, -0.5389, -0.1179])\n",
      "Ans2:  tensor([[-0.6374, -0.2358, -0.6097, -0.3951, -0.0865]])\n",
      "\n",
      "Mx:  tensor([[-0.0024,  0.3176,  0.2276,  0.2862,  0.2950],\n",
      "        [-0.8695, -0.3217, -0.8317, -0.5389, -0.1179]])\n",
      "Mx norm1:  tensor([[0.5671, 1.3621]])\n",
      "x norm  tensor([[0.6000, 0.9900]])\n",
      "Norm factor:  tensor([[0.9451, 1.3759]])\n",
      "inner2:  tensor([[1.0141],\n",
      "        [0.7331]])\n",
      "Mx:  tensor([[-0.0024,  0.3176,  0.2276,  0.2862,  0.2950],\n",
      "        [-0.8695, -0.3217, -0.8317, -0.5389, -0.1179]])\n",
      "Ans3:  tensor([[-0.0025,  0.3221,  0.2308,  0.2902,  0.2991],\n",
      "        [-0.6374, -0.2358, -0.6097, -0.3951, -0.0865]])\n"
     ]
    }
   ],
   "source": [
    "print('Ans1: ',mat_mult(M, v1, 1))\n",
    "print()\n",
    "print('Ans2: ',mat_mult(M, v2, 1))\n",
    "print()\n",
    "print('Ans3: ',mat_mult(M, v3, 1))"
   ]
  },
  {
   "cell_type": "code",
   "execution_count": 30,
   "metadata": {},
   "outputs": [
    {
     "data": {
      "text/plain": [
       "array([0.59999   , 0.98999995], dtype=float32)"
      ]
     },
     "execution_count": 30,
     "metadata": {},
     "output_type": "execute_result"
    }
   ],
   "source": [
    "LA.norm(v3, axis=1)"
   ]
  },
  {
   "cell_type": "code",
   "execution_count": 105,
   "metadata": {},
   "outputs": [],
   "source": [
    "m1 = th.rand((2, 3))\n",
    "m2 = th.empty(2)"
   ]
  },
  {
   "cell_type": "code",
   "execution_count": 106,
   "metadata": {},
   "outputs": [
    {
     "data": {
      "text/plain": [
       "tensor([-3.7936e-38,  3.0733e-41])"
      ]
     },
     "execution_count": 106,
     "metadata": {},
     "output_type": "execute_result"
    }
   ],
   "source": [
    "m2"
   ]
  },
  {
   "cell_type": "code",
   "execution_count": 109,
   "metadata": {},
   "outputs": [
    {
     "data": {
      "text/plain": [
       "tensor([-2.4882e-39, -3.0468e-38, -1.1694e-38])"
      ]
     },
     "execution_count": 109,
     "metadata": {},
     "output_type": "execute_result"
    }
   ],
   "source": [
    "m2 @ m1"
   ]
  },
  {
   "cell_type": "code",
   "execution_count": 110,
   "metadata": {},
   "outputs": [
    {
     "data": {
      "text/plain": [
       "236.64319132398464"
      ]
     },
     "execution_count": 110,
     "metadata": {},
     "output_type": "execute_result"
    }
   ],
   "source": [
    "np.sqrt(56000)"
   ]
  },
  {
   "cell_type": "code",
   "execution_count": null,
   "metadata": {},
   "outputs": [],
   "source": []
  }
 ],
 "metadata": {
  "kernelspec": {
   "display_name": "Python 3",
   "language": "python",
   "name": "python3"
  },
  "language_info": {
   "codemirror_mode": {
    "name": "ipython",
    "version": 3
   },
   "file_extension": ".py",
   "mimetype": "text/x-python",
   "name": "python",
   "nbconvert_exporter": "python",
   "pygments_lexer": "ipython3",
   "version": "3.7.1"
  }
 },
 "nbformat": 4,
 "nbformat_minor": 2
}
